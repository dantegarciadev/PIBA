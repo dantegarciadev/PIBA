{
 "cells": [
  {
   "attachments": {},
   "cell_type": "markdown",
   "metadata": {},
   "source": [
    "### Conexion sql"
   ]
  },
  {
   "cell_type": "code",
   "execution_count": 48,
   "metadata": {},
   "outputs": [],
   "source": [
    "import pyodbc\n",
    "import getpass\n",
    "import mysql.connector\n",
    "\n",
    "nombre_usuario = getpass.getpass(\"ingrese su usuario: \")\n",
    "clave = getpass.getpass(\"ingresa tu pass: \")\n",
    "mydb = mysql.connector.connect(\n",
    "host= \"45.227.162.18\",\n",
    "user= nombre_usuario ,\n",
    "passwd=clave,\n",
    "database=\"goet\"\n",
    ")\n",
    "\n",
    "mycursor = mydb.cursor()"
   ]
  },
  {
   "attachments": {},
   "cell_type": "markdown",
   "metadata": {},
   "source": [
    "### Crear el cursor"
   ]
  },
  {
   "cell_type": "code",
   "execution_count": null,
   "metadata": {},
   "outputs": [],
   "source": [
    "\n",
    "mycursor.execute(\"SELECT table_name FROM information_schema.tables WHERE table_schema = 'goet'\")\n",
    "\n",
    "for table_name in mycursor:\n",
    "    print(table_name)"
   ]
  },
  {
   "attachments": {},
   "cell_type": "markdown",
   "metadata": {},
   "source": [
    "### listar total de registros de cada tabla"
   ]
  },
  {
   "cell_type": "code",
   "execution_count": 57,
   "metadata": {},
   "outputs": [
    {
     "name": "stdout",
     "output_type": "stream",
     "text": [
      "area tiene 1 registros.\n",
      "asistencia_alumnos tiene 0 registros.\n",
      "asistencia_alumnos_por_año tiene 0 registros.\n",
      "asistencia_estado tiene 3 registros.\n",
      "barrios tiene 48 registros.\n",
      "barrios_vulnerables tiene 47 registros.\n",
      "calificacion_alumnos tiene 0 registros.\n",
      "No se pueden ver los registros de la tabla calificaciones_alumnos_por_año debido a permisos insuficientes.\n",
      "centro_area tiene 1 registros.\n",
      "centro_codigo_curso tiene 227 registros.\n",
      "centro_codigo_curso_estado tiene 4 registros.\n",
      "centro_curso_estado tiene 6 registros.\n",
      "centro_curso_turnos tiene 6 registros.\n",
      "centro_dias_curso tiene 187 registros.\n",
      "centro_formacion tiene 1 registros.\n",
      "centro_habilitacion_modulos tiene 9 registros.\n",
      "No se pueden ver los registros de la tabla centro_responsables debido a permisos insuficientes.\n",
      "centro_sedes tiene 0 registros.\n",
      "centro_tipo tiene 4 registros.\n",
      "No se pueden ver los registros de la tabla centro_tipo_responsable debido a permisos insuficientes.\n",
      "centro_tipo_sede tiene 3 registros.\n",
      "certificado_alumnos tiene 0 registros.\n",
      "certificado_estado tiene 4 registros.\n",
      "certificado_origen tiene 4 registros.\n",
      "certificado_trayectos tiene 0 registros.\n",
      "ciclo_lectivo tiene 3 registros.\n",
      "No se pueden ver los registros de la tabla configuracion debido a permisos insuficientes.\n",
      "No se pueden ver los registros de la tabla curso_modo_inscripcion debido a permisos insuficientes.\n",
      "No se pueden ver los registros de la tabla curso_tipo_costo debido a permisos insuficientes.\n",
      "dias_semana tiene 6 registros.\n",
      "No se pueden ver los registros de la tabla docente_area_familia debido a permisos insuficientes.\n",
      "docente_cargo_organico tiene 14 registros.\n",
      "docente_centro tiene 75 registros.\n",
      "docente_codigo_licencia tiene 0 registros.\n",
      "docente_codigo_registro tiene 0 registros.\n",
      "docente_codigo_situacion tiene 0 registros.\n",
      "docente_detalle_cargo tiene 0 registros.\n",
      "No se pueden ver los registros de la tabla docente_detalle_cargo_funcion debido a permisos insuficientes.\n",
      "No se pueden ver los registros de la tabla docente_estado debido a permisos insuficientes.\n",
      "docente_estado_lic_sup tiene 2 registros.\n",
      "No se pueden ver los registros de la tabla docente_funcion debido a permisos insuficientes.\n",
      "docente_licencia_suplencia tiene 0 registros.\n",
      "docente_puesto tiene 0 registros.\n",
      "docente_revista tiene 0 registros.\n",
      "docente_situacion_revista tiene 3 registros.\n",
      "docente_tipo_licencia tiene 40 registros.\n",
      "docente_tipo_rol tiene 0 registros.\n",
      "No se pueden ver los registros de la tabla docente_turnos debido a permisos insuficientes.\n",
      "estado_nomenclador tiene 4 registros.\n",
      "familia tiene 1 registros.\n",
      "inscripcion_alumnos tiene 0 registros.\n",
      "No se pueden ver los registros de la tabla inscripcion_alumnos_enroque debido a permisos insuficientes.\n",
      "inscripcion_estado tiene 3 registros.\n",
      "inscripcion_estado_alumno tiene 11 registros.\n",
      "inscripcion_origen tiene 5 registros.\n",
      "localidades tiene 1960 registros.\n",
      "mudulosxtrayecto tiene 4 registros.\n",
      "nacionalidades tiene 69 registros.\n",
      "nivel_estudio tiene 112 registros.\n",
      "nomenclador tiene 11 registros.\n",
      "No se pueden ver los registros de la tabla nomenclador_catalogo_agencia debido a permisos insuficientes.\n",
      "nomenclador_nivel tiene 14 registros.\n",
      "nomenclador_origen tiene 3 registros.\n",
      "nomenclador_rubro tiene 1 registros.\n",
      "nomenclador_tipo tiene 2 registros.\n",
      "paises tiene 197 registros.\n",
      "profesiones tiene 196 registros.\n",
      "provincias tiene 25 registros.\n",
      "sector tiene 2 registros.\n",
      "No se pueden ver los registros de la tabla tabla_asistencias debido a permisos insuficientes.\n",
      "No se pueden ver los registros de la tabla tabla_clasificaciones debido a permisos insuficientes.\n",
      "No se pueden ver los registros de la tabla tabla_periodos debido a permisos insuficientes.\n",
      "No se pueden ver los registros de la tabla tabla_periodos_tipo debido a permisos insuficientes.\n",
      "No se pueden ver los registros de la tabla tb_applications debido a permisos insuficientes.\n",
      "No se pueden ver los registros de la tabla tb_email debido a permisos insuficientes.\n",
      "No se pueden ver los registros de la tabla tb_groups debido a permisos insuficientes.\n",
      "No se pueden ver los registros de la tabla tb_groups_x_apps debido a permisos insuficientes.\n",
      "No se pueden ver los registros de la tabla tb_user_applications debido a permisos insuficientes.\n",
      "tb_users tiene 23 registros.\n",
      "No se pueden ver los registros de la tabla tb_users_x_groups debido a permisos insuficientes.\n",
      "tipo_documento tiene 21 registros.\n",
      "trayecto tiene 1 registros.\n",
      "trayecto_nivel tiene 4 registros.\n",
      "trayecto_tipo_certificado tiene 2 registros.\n",
      "No se pueden ver los registros de la tabla trazabilidad_academica debido a permisos insuficientes.\n",
      "No se pueden ver los registros de la tabla trazabilidad_estado debido a permisos insuficientes.\n",
      "No se pueden ver los registros de la tabla trazabilidad_motivo debido a permisos insuficientes.\n",
      "No se pueden ver los registros de la tabla trazabilidad_origen debido a permisos insuficientes.\n",
      "usuarios tiene 50476 registros.\n",
      "No se pueden ver los registros de la tabla usuarios_destino_ingresos debido a permisos insuficientes.\n",
      "No se pueden ver los registros de la tabla usuarios_forma_contratacion debido a permisos insuficientes.\n",
      "No se pueden ver los registros de la tabla usuarios_franja_horaria_laboral debido a permisos insuficientes.\n",
      "No se pueden ver los registros de la tabla usuarios_situacion_laboral debido a permisos insuficientes.\n",
      "No se pueden ver los registros de la tabla usuarios_tipo_contratacion debido a permisos insuficientes.\n"
     ]
    }
   ],
   "source": [
    "mycursor.execute(\"SELECT table_name FROM information_schema.tables WHERE table_schema = 'goet'\")\n",
    "tables = mycursor.fetchall()\n",
    "for table in tables:\n",
    "    table_name = table[0]\n",
    "    try:\n",
    "        mycursor.execute(f\"SELECT COUNT(*) FROM {table_name};\")\n",
    "        count = mycursor.fetchone()[0]\n",
    "        print(f\"{table_name} tiene {count} registros.\")\n",
    "    except mysql.connector.errors.ProgrammingError:\n",
    "        print(f\"No se pueden ver los registros de la tabla {table_name} debido a permisos insuficientes.\")\n"
   ]
  }
 ],
 "metadata": {
  "kernelspec": {
   "display_name": ".venv",
   "language": "python",
   "name": "python3"
  },
  "language_info": {
   "codemirror_mode": {
    "name": "ipython",
    "version": 3
   },
   "file_extension": ".py",
   "mimetype": "text/x-python",
   "name": "python",
   "nbconvert_exporter": "python",
   "pygments_lexer": "ipython3",
   "version": "3.11.2"
  },
  "orig_nbformat": 4
 },
 "nbformat": 4,
 "nbformat_minor": 2
}
