{
 "cells": [
  {
   "attachments": {},
   "cell_type": "markdown",
   "metadata": {},
   "source": [
    "### Conexion sql"
   ]
  },
  {
   "cell_type": "code",
   "execution_count": 2,
   "metadata": {},
   "outputs": [
    {
     "ename": "ModuleNotFoundError",
     "evalue": "No module named 'mysql'",
     "output_type": "error",
     "traceback": [
      "\u001b[1;31m---------------------------------------------------------------------------\u001b[0m",
      "\u001b[1;31mModuleNotFoundError\u001b[0m                       Traceback (most recent call last)",
      "Cell \u001b[1;32mIn[2], line 3\u001b[0m\n\u001b[0;32m      1\u001b[0m \u001b[39mimport\u001b[39;00m \u001b[39mpyodbc\u001b[39;00m\n\u001b[0;32m      2\u001b[0m \u001b[39mimport\u001b[39;00m \u001b[39mgetpass\u001b[39;00m\n\u001b[1;32m----> 3\u001b[0m \u001b[39mimport\u001b[39;00m \u001b[39mmysql\u001b[39;00m\u001b[39m.\u001b[39;00m\u001b[39mconnector\u001b[39;00m\n\u001b[0;32m      5\u001b[0m nombre_usuario \u001b[39m=\u001b[39m getpass\u001b[39m.\u001b[39mgetpass(\u001b[39m\"\u001b[39m\u001b[39mingrese su usuario: \u001b[39m\u001b[39m\"\u001b[39m)\n\u001b[0;32m      6\u001b[0m clave \u001b[39m=\u001b[39m getpass\u001b[39m.\u001b[39mgetpass(\u001b[39m\"\u001b[39m\u001b[39mingresa tu pass: \u001b[39m\u001b[39m\"\u001b[39m)\n",
      "\u001b[1;31mModuleNotFoundError\u001b[0m: No module named 'mysql'"
     ]
    }
   ],
   "source": [
    "import pyodbc\n",
    "import getpass\n",
    "import mysql.connector\n",
    "\n",
    "nombre_usuario = getpass.getpass(\"ingrese su usuario: \")\n",
    "clave = getpass.getpass(\"ingresa tu pass: \")\n",
    "mydb = mysql.connector.connect(\n",
    "host= \"45.227.162.18\",\n",
    "user= nombre_usuario ,\n",
    "passwd=clave,\n",
    "database=\"goet\"\n",
    ")\n",
    "\n",
    "mycursor = mydb.cursor()"
   ]
  },
  {
   "attachments": {},
   "cell_type": "markdown",
   "metadata": {},
   "source": [
    "### Crear el cursor"
   ]
  },
  {
   "cell_type": "code",
   "execution_count": null,
   "metadata": {},
   "outputs": [],
   "source": [
    "\n",
    "mycursor.execute(\"SELECT table_name FROM information_schema.tables WHERE table_schema = 'goet'\")\n",
    "\n",
    "for table_name in mycursor:\n",
    "    print(table_name)"
   ]
  },
  {
   "attachments": {},
   "cell_type": "markdown",
   "metadata": {},
   "source": [
    "### listar total de registros de cada tabla"
   ]
  },
  {
   "cell_type": "code",
   "execution_count": null,
   "metadata": {},
   "outputs": [],
   "source": [
    "mycursor.execute(\"SELECT table_name FROM information_schema.tables WHERE table_schema = 'goet'\")\n",
    "tables = mycursor.fetchall()\n",
    "for table in tables:\n",
    "    table_name = table[0]\n",
    "    try:\n",
    "        mycursor.execute(f\"SELECT COUNT(*) FROM {table_name};\")\n",
    "        count = mycursor.fetchone()[0]\n",
    "        print(f\"{table_name} tiene {count} registros.\")\n",
    "    except mysql.connector.errors.ProgrammingError:\n",
    "        print(f\"No se pueden ver los registros de la tabla {table_name} debido a permisos insuficientes.\")\n"
   ]
  },
  {
   "attachments": {},
   "cell_type": "markdown",
   "metadata": {},
   "source": [
    "### Tablas  a DataFrame"
   ]
  },
  {
   "cell_type": "code",
   "execution_count": null,
   "metadata": {},
   "outputs": [],
   "source": [
    "#dejo libre para colocar el script para convertir una tabla a un DF para analisis de calidad de datos listo"
   ]
  }
 ],
 "metadata": {
  "kernelspec": {
   "display_name": ".venv",
   "language": "python",
   "name": "python3"
  },
  "language_info": {
   "codemirror_mode": {
    "name": "ipython",
    "version": 3
   },
   "file_extension": ".py",
   "mimetype": "text/x-python",
   "name": "python",
   "nbconvert_exporter": "python",
   "pygments_lexer": "ipython3",
   "version": "3.11.0"
  },
  "orig_nbformat": 4
 },
 "nbformat": 4,
 "nbformat_minor": 2
}
