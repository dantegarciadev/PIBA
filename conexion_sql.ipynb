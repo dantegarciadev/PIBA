{
 "cells": [
  {
   "attachments": {},
   "cell_type": "markdown",
   "metadata": {},
   "source": [
    "### Conexion sql"
   ]
  },
  {
   "cell_type": "code",
   "execution_count": null,
   "metadata": {},
   "outputs": [],
   "source": [
    "import pyodbc\n",
    "import getpass\n",
    "import mysql.connector\n",
    "\n",
    "nombre_usuario = getpass.getpass(\"ingrese su usuario: \")\n",
    "clave = getpass.getpass(\"ingresa tu pass: \")\n",
    "mydb = mysql.connector.connect(\n",
    "host= \"45.227.162.18\",\n",
    "user= nombre_usuario ,\n",
    "passwd=clave,\n",
    "database=\"goet\"\n",
    ")\n",
    "\n",
    "mycursor = mydb.cursor()"
   ]
  },
  {
   "attachments": {},
   "cell_type": "markdown",
   "metadata": {},
   "source": [
    "### Crear el cursor"
   ]
  },
  {
   "cell_type": "code",
   "execution_count": null,
   "metadata": {},
   "outputs": [],
   "source": [
    "\n",
    "mycursor.execute(\"SELECT table_name FROM information_schema.tables WHERE table_schema = 'goet'\")\n",
    "\n",
    "for table_name in mycursor:\n",
    "    print(table_name)"
   ]
  },
  {
   "attachments": {},
   "cell_type": "markdown",
   "metadata": {},
   "source": [
    "### listar total de registros de cada tabla"
   ]
  },
  {
   "cell_type": "code",
   "execution_count": null,
   "metadata": {},
   "outputs": [],
   "source": [
    "mycursor.execute(\"SELECT table_name FROM information_schema.tables WHERE table_schema = 'goet'\")\n",
    "tables = mycursor.fetchall()\n",
    "for table in tables:\n",
    "    table_name = table[0]\n",
    "    try:\n",
    "        mycursor.execute(f\"SELECT COUNT(*) FROM {table_name};\")\n",
    "        count = mycursor.fetchone()[0]\n",
    "        print(f\"{table_name} tiene {count} registros.\")\n",
    "    except mysql.connector.errors.ProgrammingError:\n",
    "        print(f\"No se pueden ver los registros de la tabla {table_name} debido a permisos insuficientes.\")\n"
   ]
  },
  {
   "attachments": {},
   "cell_type": "markdown",
   "metadata": {},
   "source": [
    "### Tablas  a DataFrame"
   ]
  },
  {
   "cell_type": "code",
   "execution_count": null,
   "metadata": {},
   "outputs": [],
   "source": [
    "#dejo libre para colocar el script para convertir una tabla a un DF para analisis de calidad de datos"
   ]
  }
 ],
 "metadata": {
  "kernelspec": {
   "display_name": ".venv",
   "language": "python",
   "name": "python3"
  },
  "language_info": {
   "codemirror_mode": {
    "name": "ipython",
    "version": 3
   },
   "file_extension": ".py",
   "mimetype": "text/x-python",
   "name": "python",
   "nbconvert_exporter": "python",
   "pygments_lexer": "ipython3",
   "version": "3.11.2"
  },
  "orig_nbformat": 4
 },
 "nbformat": 4,
 "nbformat_minor": 2
}
