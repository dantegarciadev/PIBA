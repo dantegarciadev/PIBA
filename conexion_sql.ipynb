{
 "cells": [
  {
   "attachments": {},
   "cell_type": "markdown",
   "metadata": {},
   "source": [
    "### Conexion sql"
   ]
  },
  {
   "cell_type": "code",
   "execution_count": 3,
   "metadata": {},
   "outputs": [],
   "source": [
    "import pyodbc\n",
    "import getpass\n",
    "import mysql.connector\n",
    "import pandas as pd\n",
    "\n",
    "nombre_usuario = getpass.getpass(\"ingrese su usuario: \")\n",
    "clave = getpass.getpass(\"ingresa tu pass: \")\n",
    "mydb = mysql.connector.connect(\n",
    "host= \"10.12.2.162\",\n",
    "user= nombre_usuario ,\n",
    "passwd=clave,\n",
    "database=\"bataxi\"\n",
    ")\n",
    "\n",
    "mycursor = mydb.cursor()"
   ]
  },
  {
   "attachments": {},
   "cell_type": "markdown",
   "metadata": {},
   "source": [
    "### Crear el cursor"
   ]
  },
  {
   "cell_type": "code",
   "execution_count": 4,
   "metadata": {},
   "outputs": [
    {
     "name": "stdout",
     "output_type": "stream",
     "text": [
      "('active_storage_attachments',)\n",
      "('active_storage_blobs',)\n",
      "('admin_users',)\n",
      "('admin_users_roles',)\n",
      "('api_clients',)\n",
      "('application_settings',)\n",
      "('ar_internal_metadata',)\n",
      "('average_values',)\n",
      "('base_notifications',)\n",
      "('bills',)\n",
      "('cars',)\n",
      "('cars_tags',)\n",
      "('cars_users',)\n",
      "('claims',)\n",
      "('credit_balances',)\n",
      "('devices',)\n",
      "('funding_account_deposits',)\n",
      "('gateways',)\n",
      "('health_care_centers',)\n",
      "('health_care_professionals',)\n",
      "('lost_object_reports',)\n",
      "('messages',)\n",
      "('oauth_access_grants',)\n",
      "('oauth_access_tokens',)\n",
      "('oauth_applications',)\n",
      "('payments',)\n",
      "('ratings',)\n",
      "('roles',)\n",
      "('schema_migrations',)\n",
      "('service_sessions',)\n",
      "('sessions',)\n",
      "('subsidized_taxi_trips',)\n",
      "('suggestions',)\n",
      "('tag_categories',)\n",
      "('tags',)\n",
      "('tags_taxi_bookings',)\n",
      "('tags_users',)\n",
      "('taxi_booking_offers',)\n",
      "('taxi_bookings',)\n",
      "('taxi_trips',)\n",
      "('tickets',)\n",
      "('trip_statuses',)\n",
      "('unbooked_taxi_trips',)\n",
      "('user_login_records',)\n",
      "('users',)\n",
      "('users_notifications',)\n",
      "('versions',)\n",
      "('vista_active_storage_attachments',)\n",
      "('vista_application_settings',)\n",
      "('vista_ar_internal_metadata',)\n",
      "('vista_bills',)\n",
      "('vista_cars',)\n",
      "('vista_claims',)\n",
      "('vista_gateways',)\n",
      "('vista_health_care_center',)\n",
      "('vista_lost_object_reports',)\n",
      "('vista_messages',)\n",
      "('vista_oauth_access_tokens',)\n",
      "('vista_oauth_applications',)\n",
      "('vista_payments',)\n",
      "('vista_ratings',)\n",
      "('vista_service_sessions',)\n",
      "('vista_sessions',)\n",
      "('vista_suggestions',)\n",
      "('vista_tags',)\n",
      "('vista_tags_taxi_booking',)\n",
      "('vista_taxi_booking_offers',)\n",
      "('vista_taxi_bookings',)\n",
      "('vista_taxi_trips',)\n",
      "('vista_trip_statuses',)\n",
      "('vista_unbooked_taxi_trips',)\n",
      "('vista_user',)\n",
      "('vista_user_login_records',)\n"
     ]
    }
   ],
   "source": [
    "\n",
    "mycursor.execute(\"SELECT table_name FROM information_schema.tables WHERE table_schema = 'bataxi'\")\n",
    "\n",
    "for table_name in mycursor:\n",
    "    print(table_name)"
   ]
  },
  {
   "attachments": {},
   "cell_type": "markdown",
   "metadata": {},
   "source": [
    "### listar total de registros de cada tabla"
   ]
  },
  {
   "cell_type": "code",
   "execution_count": 8,
   "metadata": {},
   "outputs": [
    {
     "name": "stdout",
     "output_type": "stream",
     "text": [
      "vista_active_storage_attachments tiene 14968 registros.\n",
      "vista_application_settings tiene 1 registros.\n",
      "vista_ar_internal_metadata tiene 1 registros.\n",
      "vista_bills tiene 2259581 registros.\n",
      "vista_cars tiene 19266 registros.\n",
      "vista_claims tiene 6623 registros.\n",
      "vista_gateways tiene 41 registros.\n",
      "vista_health_care_center tiene 119 registros.\n",
      "vista_lost_object_reports tiene 3109 registros.\n",
      "vista_messages tiene 3879548 registros.\n",
      "vista_oauth_access_tokens tiene 1464099 registros.\n",
      "vista_oauth_applications tiene 0 registros.\n",
      "vista_payments tiene 2259574 registros.\n",
      "vista_ratings tiene 275078 registros.\n",
      "vista_service_sessions tiene 5436642 registros.\n",
      "vista_sessions tiene 19 registros.\n",
      "vista_suggestions tiene 42062 registros.\n",
      "vista_tags tiene 7 registros.\n",
      "vista_tags_taxi_booking tiene 183021 registros.\n",
      "vista_taxi_booking_offers tiene 17601378 registros.\n",
      "vista_taxi_bookings tiene 4301732 registros.\n",
      "vista_taxi_trips tiene 3151352 registros.\n",
      "vista_trip_statuses tiene 13010509 registros.\n",
      "vista_unbooked_taxi_trips tiene 1 registros.\n",
      "vista_user tiene 1 registros.\n",
      "vista_user_login_records tiene 8624756 registros.\n"
     ]
    }
   ],
   "source": [
    "mycursor.execute(\"SELECT table_name FROM information_schema.tables WHERE table_schema = 'bataxi'\")\n",
    "tables = mycursor.fetchall()\n",
    "\n",
    "data = []\n",
    "\n",
    "for table in tables:\n",
    "    table_name = table[0]\n",
    "    try:\n",
    "        mycursor.execute(f\"SELECT COUNT(*) FROM {table_name};\")\n",
    "        count = mycursor.fetchone()[0]\n",
    "        data.append([table_name, count])\n",
    "        print(f\"{table_name} tiene {count} registros.\")\n",
    "    except mysql.connector.errors.ProgrammingError:\n",
    "        data.append([table_name, \"No se pueden ver los registros debido a permisos insuficientes.\"])\n",
    "    \n",
    "resultados = pd.DataFrame(data, columns=[\"Tabla\", \"Registros\"])"
   ]
  },
  {
   "attachments": {},
   "cell_type": "markdown",
   "metadata": {},
   "source": [
    "### Tablas  a DataFrame"
   ]
  },
  {
   "cell_type": "code",
   "execution_count": 10,
   "metadata": {},
   "outputs": [],
   "source": [
    "resultados.to_csv(r\"C:\\Users\\23336058929\\Desktop\\PROYECTOS\\AUTOMATIZACION\\bataxi.csv\", encoding='utf-8', index=False)"
   ]
  },
  {
   "cell_type": "code",
   "execution_count": 1,
   "metadata": {},
   "outputs": [
    {
     "name": "stdout",
     "output_type": "stream",
     "text": [
      "SELECT * FROM bataxi.vista_bills\n"
     ]
    }
   ],
   "source": [
    "ing_query = input(\"ingresa la query: \")\n",
    "print(ing_query)"
   ]
  },
  {
   "cell_type": "code",
   "execution_count": 11,
   "metadata": {},
   "outputs": [
    {
     "name": "stderr",
     "output_type": "stream",
     "text": [
      "C:\\Users\\23336058929\\AppData\\Local\\Temp\\ipykernel_12944\\3654172806.py:1: UserWarning: pandas only supports SQLAlchemy connectable (engine/connection) or database string URI or sqlite3 DBAPI2 connection. Other DBAPI2 objects are not tested. Please consider using SQLAlchemy.\n",
      "  vista2 = pd.read_sql('SELECT * FROM bataxi.vista_bills', con=mydb)\n"
     ]
    },
    {
     "ename": "InternalError",
     "evalue": "Unread result found",
     "output_type": "error",
     "traceback": [
      "\u001b[1;31m---------------------------------------------------------------------------\u001b[0m",
      "\u001b[1;31mInternalError\u001b[0m                             Traceback (most recent call last)",
      "Cell \u001b[1;32mIn[11], line 1\u001b[0m\n\u001b[1;32m----> 1\u001b[0m vista2 \u001b[39m=\u001b[39m pd\u001b[39m.\u001b[39;49mread_sql(\u001b[39m'\u001b[39;49m\u001b[39mSELECT * FROM bataxi.vista_bills\u001b[39;49m\u001b[39m'\u001b[39;49m, con\u001b[39m=\u001b[39;49mmydb)\n",
      "File \u001b[1;32mc:\\Python311\\Lib\\site-packages\\pandas\\io\\sql.py:564\u001b[0m, in \u001b[0;36mread_sql\u001b[1;34m(sql, con, index_col, coerce_float, params, parse_dates, columns, chunksize)\u001b[0m\n\u001b[0;32m    561\u001b[0m pandas_sql \u001b[39m=\u001b[39m pandasSQL_builder(con)\n\u001b[0;32m    563\u001b[0m \u001b[39mif\u001b[39;00m \u001b[39misinstance\u001b[39m(pandas_sql, SQLiteDatabase):\n\u001b[1;32m--> 564\u001b[0m     \u001b[39mreturn\u001b[39;00m pandas_sql\u001b[39m.\u001b[39;49mread_query(\n\u001b[0;32m    565\u001b[0m         sql,\n\u001b[0;32m    566\u001b[0m         index_col\u001b[39m=\u001b[39;49mindex_col,\n\u001b[0;32m    567\u001b[0m         params\u001b[39m=\u001b[39;49mparams,\n\u001b[0;32m    568\u001b[0m         coerce_float\u001b[39m=\u001b[39;49mcoerce_float,\n\u001b[0;32m    569\u001b[0m         parse_dates\u001b[39m=\u001b[39;49mparse_dates,\n\u001b[0;32m    570\u001b[0m         chunksize\u001b[39m=\u001b[39;49mchunksize,\n\u001b[0;32m    571\u001b[0m     )\n\u001b[0;32m    573\u001b[0m \u001b[39mtry\u001b[39;00m:\n\u001b[0;32m    574\u001b[0m     _is_table_name \u001b[39m=\u001b[39m pandas_sql\u001b[39m.\u001b[39mhas_table(sql)\n",
      "File \u001b[1;32mc:\\Python311\\Lib\\site-packages\\pandas\\io\\sql.py:2078\u001b[0m, in \u001b[0;36mSQLiteDatabase.read_query\u001b[1;34m(self, sql, index_col, coerce_float, params, parse_dates, chunksize, dtype)\u001b[0m\n\u001b[0;32m   2066\u001b[0m \u001b[39mdef\u001b[39;00m \u001b[39mread_query\u001b[39m(\n\u001b[0;32m   2067\u001b[0m     \u001b[39mself\u001b[39m,\n\u001b[0;32m   2068\u001b[0m     sql,\n\u001b[1;32m   (...)\u001b[0m\n\u001b[0;32m   2074\u001b[0m     dtype: DtypeArg \u001b[39m|\u001b[39m \u001b[39mNone\u001b[39;00m \u001b[39m=\u001b[39m \u001b[39mNone\u001b[39;00m,\n\u001b[0;32m   2075\u001b[0m ) \u001b[39m-\u001b[39m\u001b[39m>\u001b[39m DataFrame \u001b[39m|\u001b[39m Iterator[DataFrame]:\n\u001b[0;32m   2077\u001b[0m     args \u001b[39m=\u001b[39m _convert_params(sql, params)\n\u001b[1;32m-> 2078\u001b[0m     cursor \u001b[39m=\u001b[39m \u001b[39mself\u001b[39;49m\u001b[39m.\u001b[39;49mexecute(\u001b[39m*\u001b[39;49margs)\n\u001b[0;32m   2079\u001b[0m     columns \u001b[39m=\u001b[39m [col_desc[\u001b[39m0\u001b[39m] \u001b[39mfor\u001b[39;00m col_desc \u001b[39min\u001b[39;00m cursor\u001b[39m.\u001b[39mdescription]\n\u001b[0;32m   2081\u001b[0m     \u001b[39mif\u001b[39;00m chunksize \u001b[39mis\u001b[39;00m \u001b[39mnot\u001b[39;00m \u001b[39mNone\u001b[39;00m:\n",
      "File \u001b[1;32mc:\\Python311\\Lib\\site-packages\\pandas\\io\\sql.py:2016\u001b[0m, in \u001b[0;36mSQLiteDatabase.execute\u001b[1;34m(self, *args, **kwargs)\u001b[0m\n\u001b[0;32m   2015\u001b[0m \u001b[39mdef\u001b[39;00m \u001b[39mexecute\u001b[39m(\u001b[39mself\u001b[39m, \u001b[39m*\u001b[39margs, \u001b[39m*\u001b[39m\u001b[39m*\u001b[39mkwargs):\n\u001b[1;32m-> 2016\u001b[0m     cur \u001b[39m=\u001b[39m \u001b[39mself\u001b[39;49m\u001b[39m.\u001b[39;49mcon\u001b[39m.\u001b[39;49mcursor()\n\u001b[0;32m   2017\u001b[0m     \u001b[39mtry\u001b[39;00m:\n\u001b[0;32m   2018\u001b[0m         cur\u001b[39m.\u001b[39mexecute(\u001b[39m*\u001b[39margs, \u001b[39m*\u001b[39m\u001b[39m*\u001b[39mkwargs)\n",
      "File \u001b[1;32mc:\\Python311\\Lib\\site-packages\\mysql\\connector\\connection_cext.py:673\u001b[0m, in \u001b[0;36mCMySQLConnection.cursor\u001b[1;34m(self, buffered, raw, prepared, cursor_class, dictionary, named_tuple)\u001b[0m\n\u001b[0;32m    636\u001b[0m \u001b[39mdef\u001b[39;00m \u001b[39mcursor\u001b[39m(\n\u001b[0;32m    637\u001b[0m     \u001b[39mself\u001b[39m,\n\u001b[0;32m    638\u001b[0m     buffered: Optional[\u001b[39mbool\u001b[39m] \u001b[39m=\u001b[39m \u001b[39mNone\u001b[39;00m,\n\u001b[1;32m   (...)\u001b[0m\n\u001b[0;32m    643\u001b[0m     named_tuple: Optional[\u001b[39mbool\u001b[39m] \u001b[39m=\u001b[39m \u001b[39mNone\u001b[39;00m,\n\u001b[0;32m    644\u001b[0m ) \u001b[39m-\u001b[39m\u001b[39m>\u001b[39m CMySQLCursor:\n\u001b[0;32m    645\u001b[0m \u001b[39m    \u001b[39m\u001b[39m\"\"\"Instantiates and returns a cursor using C Extension\u001b[39;00m\n\u001b[0;32m    646\u001b[0m \n\u001b[0;32m    647\u001b[0m \u001b[39m    By default, CMySQLCursor is returned. Depending on the options\u001b[39;00m\n\u001b[1;32m   (...)\u001b[0m\n\u001b[0;32m    671\u001b[0m \u001b[39m    :rtype: CMySQLCursor or subclass\u001b[39;00m\n\u001b[0;32m    672\u001b[0m \u001b[39m    \"\"\"\u001b[39;00m\n\u001b[1;32m--> 673\u001b[0m     \u001b[39mself\u001b[39;49m\u001b[39m.\u001b[39;49mhandle_unread_result(prepared)\n\u001b[0;32m    674\u001b[0m     \u001b[39mif\u001b[39;00m \u001b[39mnot\u001b[39;00m \u001b[39mself\u001b[39m\u001b[39m.\u001b[39mis_connected():\n\u001b[0;32m    675\u001b[0m         \u001b[39mraise\u001b[39;00m OperationalError(\u001b[39m\"\u001b[39m\u001b[39mMySQL Connection not available.\u001b[39m\u001b[39m\"\u001b[39m)\n",
      "File \u001b[1;32mc:\\Python311\\Lib\\site-packages\\mysql\\connector\\connection_cext.py:921\u001b[0m, in \u001b[0;36mCMySQLConnection.handle_unread_result\u001b[1;34m(self, prepared)\u001b[0m\n\u001b[0;32m    919\u001b[0m     \u001b[39mself\u001b[39m\u001b[39m.\u001b[39mconsume_results()\n\u001b[0;32m    920\u001b[0m \u001b[39melif\u001b[39;00m unread_result:\n\u001b[1;32m--> 921\u001b[0m     \u001b[39mraise\u001b[39;00m InternalError(\u001b[39m\"\u001b[39m\u001b[39mUnread result found\u001b[39m\u001b[39m\"\u001b[39m)\n",
      "\u001b[1;31mInternalError\u001b[0m: Unread result found"
     ]
    }
   ],
   "source": [
    "vista2 = pd.read_sql('SELECT * FROM bataxi.vista_bills', con=mydb)"
   ]
  }
 ],
 "metadata": {
  "kernelspec": {
   "display_name": "Python 3",
   "language": "python",
   "name": "python3"
  },
  "language_info": {
   "codemirror_mode": {
    "name": "ipython",
    "version": 3
   },
   "file_extension": ".py",
   "mimetype": "text/x-python",
   "name": "python",
   "nbconvert_exporter": "python",
   "pygments_lexer": "ipython3",
   "version": "3.11.3"
  },
  "orig_nbformat": 4,
  "vscode": {
   "interpreter": {
    "hash": "c261aea317cc0286b3b3261fbba9abdec21eaa57589985bb7a274bf54d6cc0a7"
   }
  }
 },
 "nbformat": 4,
 "nbformat_minor": 2
}
