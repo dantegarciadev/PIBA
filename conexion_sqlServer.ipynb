{
 "cells": [
  {
   "attachments": {},
   "cell_type": "markdown",
   "metadata": {},
   "source": [
    "### Conexion sql"
   ]
  },
  {
   "cell_type": "code",
   "execution_count": 1,
   "metadata": {},
   "outputs": [],
   "source": [
    "import pyodbc\n",
    "import getpass\n",
    "import mysql.connector\n",
    "import pandas as pd\n",
    "\n",
    "#nombre_usuario = getpass.getpass(\"ingrese su usuario: \")\n",
    "#clave = getpass.getpass(\"ingresa tu pass: \")\n",
    "cnxn_str = (\"Driver={SQL Server};\"\n",
    "            \"Server=10.68.11.51,1433;\"\n",
    "            \"Database=Infracciones;\"\n",
    "            \"UID=SSPPBE;\"\n",
    "            \"PWD=MaYo_2023;\")\n",
    "mydb = pyodbc.connect(cnxn_str)\n",
    "mycursor = mydb.cursor()"
   ]
  },
  {
   "attachments": {},
   "cell_type": "markdown",
   "metadata": {},
   "source": [
    "### Crear el cursor"
   ]
  },
  {
   "cell_type": "code",
   "execution_count": 2,
   "metadata": {},
   "outputs": [
    {
     "name": "stdout",
     "output_type": "stream",
     "text": [
      "('CategoriasDeLicenciasDeConducir',)\n",
      "('GruposDeLeyes',)\n",
      "('Paises',)\n",
      "('TiposDeVehiculos',)\n",
      "('PasesLibres',)\n",
      "('tempmuestrario',)\n",
      "('Agentes',)\n",
      "('Secuencias',)\n",
      "('Presunciones_ConduccionResponsable',)\n",
      "('tempimagenes',)\n",
      "('Decisiones',)\n",
      "('Temp_Presunciones_sin_LogDecisionUsuarioId',)\n",
      "('tempdgai',)\n",
      "('tempausa',)\n",
      "('Diagnostics_Activity',)\n",
      "('Temp_aabac',)\n",
      "('tempdenunciavialsindatosdgai',)\n",
      "('Diagnostics_Metrics',)\n",
      "('tempzero',)\n",
      "('LogImportaciones',)\n",
      "('TrazaDePresunciones',)\n",
      "('Parametros',)\n",
      "('Provincias',)\n",
      "('ListasBlancas',)\n",
      "('Usuarios',)\n",
      "('tempdescartes',)\n",
      "('TiposDeListasBlancas',)\n",
      "('tempzerobytes',)\n",
      "('LotesRechazados',)\n",
      "('sysdiagrams',)\n",
      "('tempdescartescecaitra',)\n",
      "('Dispositivos',)\n",
      "('Lotes',)\n",
      "('tempNumeroCAT',)\n",
      "('temp_ausarepetidas',)\n",
      "('Cecaitra',)\n",
      "('Presunciones',)\n",
      "('Infracciones',)\n",
      "('Infracciones_RVA',)\n",
      "('TiposDeUnidades',)\n",
      "('Reparticiones',)\n",
      "('Leyes',)\n"
     ]
    }
   ],
   "source": [
    "\n",
    "mycursor.execute(\"SELECT table_name FROM information_schema.tables WHERE table_schema = 'dbo'\")\n",
    "\n",
    "for table_name in mycursor:\n",
    "    print(table_name)"
   ]
  },
  {
   "attachments": {},
   "cell_type": "markdown",
   "metadata": {},
   "source": [
    "### listar total de registros de cada tabla"
   ]
  },
  {
   "cell_type": "code",
   "execution_count": 3,
   "metadata": {},
   "outputs": [
    {
     "name": "stdout",
     "output_type": "stream",
     "text": [
      "CategoriasDeLicenciasDeConducir tiene 7 registros.\n",
      "GruposDeLeyes tiene 0 registros.\n",
      "Paises tiene 10 registros.\n",
      "TiposDeVehiculos tiene 15 registros.\n",
      "PasesLibres tiene 91 registros.\n",
      "tempmuestrario tiene 555 registros.\n",
      "Agentes tiene 2744 registros.\n",
      "Secuencias tiene 100 registros.\n",
      "Presunciones_ConduccionResponsable tiene 154174 registros.\n",
      "tempimagenes tiene 4774 registros.\n",
      "Decisiones tiene 48 registros.\n",
      "Temp_Presunciones_sin_LogDecisionUsuarioId tiene 0 registros.\n",
      "tempdgai tiene 6 registros.\n",
      "tempausa tiene 484111 registros.\n",
      "Diagnostics_Activity tiene 0 registros.\n",
      "Temp_aabac tiene 1332 registros.\n",
      "tempdenunciavialsindatosdgai tiene 1795 registros.\n",
      "Diagnostics_Metrics tiene 0 registros.\n",
      "tempzero tiene 4484 registros.\n",
      "LogImportaciones tiene 7 registros.\n",
      "TrazaDePresunciones tiene 0 registros.\n",
      "Parametros tiene 70 registros.\n",
      "Provincias tiene 24 registros.\n",
      "ListasBlancas tiene 145313 registros.\n",
      "Usuarios tiene 161 registros.\n",
      "tempdescartes tiene 13678 registros.\n",
      "TiposDeListasBlancas tiene 15 registros.\n",
      "tempzerobytes tiene 4266 registros.\n",
      "LotesRechazados tiene 0 registros.\n",
      "sysdiagrams tiene 0 registros.\n",
      "tempdescartescecaitra tiene 91907 registros.\n",
      "Dispositivos tiene 3851 registros.\n",
      "Lotes tiene 7820 registros.\n",
      "tempNumeroCAT tiene 494 registros.\n",
      "temp_ausarepetidas tiene 74 registros.\n",
      "Cecaitra tiene 0 registros.\n",
      "Presunciones tiene 20595446 registros.\n",
      "Infracciones tiene 246 registros.\n",
      "Infracciones_RVA tiene 0 registros.\n",
      "TiposDeUnidades tiene 0 registros.\n",
      "Reparticiones tiene 147 registros.\n",
      "Leyes tiene 0 registros.\n"
     ]
    }
   ],
   "source": [
    "mycursor.execute(\"SELECT table_name FROM information_schema.tables WHERE table_schema = 'dbo'\")\n",
    "tables = mycursor.fetchall()\n",
    "\n",
    "data = []\n",
    "\n",
    "for table in tables:\n",
    "    table_name = table[0]\n",
    "    try:\n",
    "        mycursor.execute(f\"SELECT COUNT(*) FROM {table_name};\")\n",
    "        count = mycursor.fetchone()[0]\n",
    "        data.append([table_name, count])\n",
    "        print(f\"{table_name} tiene {count} registros.\")\n",
    "    except mysql.connector.errors.ProgrammingError:\n",
    "        data.append([table_name, \"No se pueden ver los registros debido a permisos insuficientes.\"])\n",
    "    \n",
    "resultados = pd.DataFrame(data, columns=[\"Tabla\", \"Registros\"])"
   ]
  },
  {
   "attachments": {},
   "cell_type": "markdown",
   "metadata": {},
   "source": [
    "### Tablas  a DataFrame"
   ]
  },
  {
   "cell_type": "code",
   "execution_count": 14,
   "metadata": {},
   "outputs": [],
   "source": [
    "resultados.to_csv(r\"C:\\Users\\23336058929\\Desktop\\PROYECTOS\\AUTOMATIZACION\\infraccion.csv\", encoding='utf-8', index=False, sep=\";\")"
   ]
  },
  {
   "cell_type": "code",
   "execution_count": 4,
   "metadata": {},
   "outputs": [
    {
     "name": "stdout",
     "output_type": "stream",
     "text": [
      "SELECT * FROM Infracciones.dbo.Presunciones_ConduccionResponsable\n"
     ]
    }
   ],
   "source": [
    "ing_query = input(\"ingresa la query: \")\n",
    "print(ing_query)"
   ]
  },
  {
   "cell_type": "code",
   "execution_count": 5,
   "metadata": {},
   "outputs": [
    {
     "name": "stderr",
     "output_type": "stream",
     "text": [
      "C:\\Users\\23336058929\\AppData\\Local\\Temp\\ipykernel_1276\\1596034280.py:1: UserWarning: pandas only supports SQLAlchemy connectable (engine/connection) or database string URI or sqlite3 DBAPI2 connection. Other DBAPI2 objects are not tested. Please consider using SQLAlchemy.\n",
      "  vista2 = pd.read_sql(ing_query, con=mydb)\n"
     ]
    }
   ],
   "source": [
    "vista2 = pd.read_sql(ing_query, con=mydb)"
   ]
  },
  {
   "cell_type": "code",
   "execution_count": 10,
   "metadata": {},
   "outputs": [
    {
     "ename": "ValueError",
     "evalue": "Shape of passed values is (107, 1), indices imply (107, 2)",
     "output_type": "error",
     "traceback": [
      "\u001b[1;31m---------------------------------------------------------------------------\u001b[0m",
      "\u001b[1;31mValueError\u001b[0m                                Traceback (most recent call last)",
      "Cell \u001b[1;32mIn[10], line 2\u001b[0m\n\u001b[0;32m      1\u001b[0m nulos \u001b[39m=\u001b[39m vista2\u001b[39m.\u001b[39misnull()\u001b[39m.\u001b[39msum()\n\u001b[1;32m----> 2\u001b[0m nulos \u001b[39m=\u001b[39m pd\u001b[39m.\u001b[39;49mDataFrame(nulos, columns\u001b[39m=\u001b[39;49m[[\u001b[39m\"\u001b[39;49m\u001b[39mnombre\u001b[39;49m\u001b[39m\"\u001b[39;49m,\u001b[39m\"\u001b[39;49m\u001b[39mNulos\u001b[39;49m\u001b[39m\"\u001b[39;49m]])\n",
      "File \u001b[1;32mc:\\Users\\23336058929\\Documents\\REPOSITORIOS_GIT\\GCBA\\.venv\\Lib\\site-packages\\pandas\\core\\frame.py:758\u001b[0m, in \u001b[0;36mDataFrame.__init__\u001b[1;34m(self, data, index, columns, dtype, copy)\u001b[0m\n\u001b[0;32m    747\u001b[0m         mgr \u001b[39m=\u001b[39m dict_to_mgr(\n\u001b[0;32m    748\u001b[0m             \u001b[39m# error: Item \"ndarray\" of \"Union[ndarray, Series, Index]\" has no\u001b[39;00m\n\u001b[0;32m    749\u001b[0m             \u001b[39m# attribute \"name\"\u001b[39;00m\n\u001b[1;32m   (...)\u001b[0m\n\u001b[0;32m    755\u001b[0m             copy\u001b[39m=\u001b[39m_copy,\n\u001b[0;32m    756\u001b[0m         )\n\u001b[0;32m    757\u001b[0m     \u001b[39melse\u001b[39;00m:\n\u001b[1;32m--> 758\u001b[0m         mgr \u001b[39m=\u001b[39m ndarray_to_mgr(\n\u001b[0;32m    759\u001b[0m             data,\n\u001b[0;32m    760\u001b[0m             index,\n\u001b[0;32m    761\u001b[0m             columns,\n\u001b[0;32m    762\u001b[0m             dtype\u001b[39m=\u001b[39;49mdtype,\n\u001b[0;32m    763\u001b[0m             copy\u001b[39m=\u001b[39;49mcopy,\n\u001b[0;32m    764\u001b[0m             typ\u001b[39m=\u001b[39;49mmanager,\n\u001b[0;32m    765\u001b[0m         )\n\u001b[0;32m    767\u001b[0m \u001b[39m# For data is list-like, or Iterable (will consume into list)\u001b[39;00m\n\u001b[0;32m    768\u001b[0m \u001b[39melif\u001b[39;00m is_list_like(data):\n",
      "File \u001b[1;32mc:\\Users\\23336058929\\Documents\\REPOSITORIOS_GIT\\GCBA\\.venv\\Lib\\site-packages\\pandas\\core\\internals\\construction.py:337\u001b[0m, in \u001b[0;36mndarray_to_mgr\u001b[1;34m(values, index, columns, dtype, copy, typ)\u001b[0m\n\u001b[0;32m    332\u001b[0m \u001b[39m# _prep_ndarraylike ensures that values.ndim == 2 at this point\u001b[39;00m\n\u001b[0;32m    333\u001b[0m index, columns \u001b[39m=\u001b[39m _get_axes(\n\u001b[0;32m    334\u001b[0m     values\u001b[39m.\u001b[39mshape[\u001b[39m0\u001b[39m], values\u001b[39m.\u001b[39mshape[\u001b[39m1\u001b[39m], index\u001b[39m=\u001b[39mindex, columns\u001b[39m=\u001b[39mcolumns\n\u001b[0;32m    335\u001b[0m )\n\u001b[1;32m--> 337\u001b[0m _check_values_indices_shape_match(values, index, columns)\n\u001b[0;32m    339\u001b[0m \u001b[39mif\u001b[39;00m typ \u001b[39m==\u001b[39m \u001b[39m\"\u001b[39m\u001b[39marray\u001b[39m\u001b[39m\"\u001b[39m:\n\u001b[0;32m    340\u001b[0m     \u001b[39mif\u001b[39;00m \u001b[39missubclass\u001b[39m(values\u001b[39m.\u001b[39mdtype\u001b[39m.\u001b[39mtype, \u001b[39mstr\u001b[39m):\n",
      "File \u001b[1;32mc:\\Users\\23336058929\\Documents\\REPOSITORIOS_GIT\\GCBA\\.venv\\Lib\\site-packages\\pandas\\core\\internals\\construction.py:408\u001b[0m, in \u001b[0;36m_check_values_indices_shape_match\u001b[1;34m(values, index, columns)\u001b[0m\n\u001b[0;32m    406\u001b[0m passed \u001b[39m=\u001b[39m values\u001b[39m.\u001b[39mshape\n\u001b[0;32m    407\u001b[0m implied \u001b[39m=\u001b[39m (\u001b[39mlen\u001b[39m(index), \u001b[39mlen\u001b[39m(columns))\n\u001b[1;32m--> 408\u001b[0m \u001b[39mraise\u001b[39;00m \u001b[39mValueError\u001b[39;00m(\u001b[39mf\u001b[39m\u001b[39m\"\u001b[39m\u001b[39mShape of passed values is \u001b[39m\u001b[39m{\u001b[39;00mpassed\u001b[39m}\u001b[39;00m\u001b[39m, indices imply \u001b[39m\u001b[39m{\u001b[39;00mimplied\u001b[39m}\u001b[39;00m\u001b[39m\"\u001b[39m)\n",
      "\u001b[1;31mValueError\u001b[0m: Shape of passed values is (107, 1), indices imply (107, 2)"
     ]
    }
   ],
   "source": [
    "nulos = vista2.isnull().sum()\n",
    "nulos = pd.DataFrame(nulos, columns=[\"nulos\"])\n",
    "\n"
   ]
  },
  {
   "cell_type": "code",
   "execution_count": 7,
   "metadata": {},
   "outputs": [],
   "source": [
    "nulos.to_csv(r\"C:\\Users\\23336058929\\Desktop\\PROYECTOS\\AUTOMATIZACION\\Presunciones_ConduccionResponsable.csv\", sep=\",\", encoding='utf-8', index=False)"
   ]
  }
 ],
 "metadata": {
  "kernelspec": {
   "display_name": "Python 3",
   "language": "python",
   "name": "python3"
  },
  "language_info": {
   "codemirror_mode": {
    "name": "ipython",
    "version": 3
   },
   "file_extension": ".py",
   "mimetype": "text/x-python",
   "name": "python",
   "nbconvert_exporter": "python",
   "pygments_lexer": "ipython3",
   "version": "3.11.3"
  },
  "orig_nbformat": 4,
  "vscode": {
   "interpreter": {
    "hash": "c261aea317cc0286b3b3261fbba9abdec21eaa57589985bb7a274bf54d6cc0a7"
   }
  }
 },
 "nbformat": 4,
 "nbformat_minor": 2
}
